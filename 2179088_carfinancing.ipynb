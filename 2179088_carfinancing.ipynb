{
 "cells": [
  {
   "cell_type": "markdown",
   "id": "b2468bbf",
   "metadata": {},
   "source": [
    "### 1. Importing libraries"
   ]
  },
  {
   "cell_type": "code",
   "execution_count": 1,
   "id": "f68d89c2",
   "metadata": {},
   "outputs": [],
   "source": [
    "import numpy as np\n",
    "import pandas as pd\n",
    "import matplotlib.pyplot as plt\n",
    "import seaborn as sns\n",
    "sns.set()\n",
    "%matplotlib inline"
   ]
  },
  {
   "cell_type": "markdown",
   "id": "bdb1ce96",
   "metadata": {},
   "source": [
    "### 2. Importing dataset"
   ]
  },
  {
   "cell_type": "code",
   "execution_count": 2,
   "id": "a037bae7",
   "metadata": {
    "scrolled": true
   },
   "outputs": [
    {
     "data": {
      "text/html": [
       "<div>\n",
       "<style scoped>\n",
       "    .dataframe tbody tr th:only-of-type {\n",
       "        vertical-align: middle;\n",
       "    }\n",
       "\n",
       "    .dataframe tbody tr th {\n",
       "        vertical-align: top;\n",
       "    }\n",
       "\n",
       "    .dataframe thead th {\n",
       "        text-align: right;\n",
       "    }\n",
       "</style>\n",
       "<table border=\"1\" class=\"dataframe\">\n",
       "  <thead>\n",
       "    <tr style=\"text-align: right;\">\n",
       "      <th></th>\n",
       "      <th>Month</th>\n",
       "      <th>Starting Balance</th>\n",
       "      <th>Repayment</th>\n",
       "      <th>Interest Paid</th>\n",
       "      <th>Principal Paid</th>\n",
       "      <th>New Balance</th>\n",
       "      <th>term</th>\n",
       "      <th>interest_rate</th>\n",
       "      <th>car_type</th>\n",
       "    </tr>\n",
       "  </thead>\n",
       "  <tbody>\n",
       "    <tr>\n",
       "      <th>0</th>\n",
       "      <td>1</td>\n",
       "      <td>34689.96</td>\n",
       "      <td>687.23</td>\n",
       "      <td>202.93</td>\n",
       "      <td>484.30</td>\n",
       "      <td>34205.66</td>\n",
       "      <td>60</td>\n",
       "      <td>0.0702</td>\n",
       "      <td>Toyota Sienna</td>\n",
       "    </tr>\n",
       "    <tr>\n",
       "      <th>1</th>\n",
       "      <td>2</td>\n",
       "      <td>34205.66</td>\n",
       "      <td>687.23</td>\n",
       "      <td>200.10</td>\n",
       "      <td>487.13</td>\n",
       "      <td>33718.53</td>\n",
       "      <td>60</td>\n",
       "      <td>0.0702</td>\n",
       "      <td>Toyota Sienna</td>\n",
       "    </tr>\n",
       "    <tr>\n",
       "      <th>2</th>\n",
       "      <td>3</td>\n",
       "      <td>33718.53</td>\n",
       "      <td>687.23</td>\n",
       "      <td>197.25</td>\n",
       "      <td>489.98</td>\n",
       "      <td>33228.55</td>\n",
       "      <td>60</td>\n",
       "      <td>0.0702</td>\n",
       "      <td>Toyota Sienna</td>\n",
       "    </tr>\n",
       "    <tr>\n",
       "      <th>3</th>\n",
       "      <td>4</td>\n",
       "      <td>33228.55</td>\n",
       "      <td>687.23</td>\n",
       "      <td>194.38</td>\n",
       "      <td>492.85</td>\n",
       "      <td>32735.70</td>\n",
       "      <td>60</td>\n",
       "      <td>0.0702</td>\n",
       "      <td>Toyota Sienna</td>\n",
       "    </tr>\n",
       "    <tr>\n",
       "      <th>4</th>\n",
       "      <td>5</td>\n",
       "      <td>32735.70</td>\n",
       "      <td>687.23</td>\n",
       "      <td>191.50</td>\n",
       "      <td>495.73</td>\n",
       "      <td>32239.97</td>\n",
       "      <td>60</td>\n",
       "      <td>0.0702</td>\n",
       "      <td>Toyota Sienna</td>\n",
       "    </tr>\n",
       "  </tbody>\n",
       "</table>\n",
       "</div>"
      ],
      "text/plain": [
       "   Month  Starting Balance  Repayment  Interest Paid  Principal Paid  \\\n",
       "0      1          34689.96     687.23         202.93          484.30   \n",
       "1      2          34205.66     687.23         200.10          487.13   \n",
       "2      3          33718.53     687.23         197.25          489.98   \n",
       "3      4          33228.55     687.23         194.38          492.85   \n",
       "4      5          32735.70     687.23         191.50          495.73   \n",
       "\n",
       "   New Balance  term  interest_rate       car_type  \n",
       "0     34205.66    60         0.0702  Toyota Sienna  \n",
       "1     33718.53    60         0.0702  Toyota Sienna  \n",
       "2     33228.55    60         0.0702  Toyota Sienna  \n",
       "3     32735.70    60         0.0702  Toyota Sienna  \n",
       "4     32239.97    60         0.0702  Toyota Sienna  "
      ]
     },
     "execution_count": 2,
     "metadata": {},
     "output_type": "execute_result"
    }
   ],
   "source": [
    "data = pd.read_csv('car_financing.csv')\n",
    "data.head()"
   ]
  },
  {
   "cell_type": "markdown",
   "id": "b50e97c3",
   "metadata": {},
   "source": [
    "### 3. Description of interest rates across car types"
   ]
  },
  {
   "cell_type": "code",
   "execution_count": 3,
   "id": "c7d04af5",
   "metadata": {
    "scrolled": true
   },
   "outputs": [
    {
     "data": {
      "text/html": [
       "<div>\n",
       "<style scoped>\n",
       "    .dataframe tbody tr th:only-of-type {\n",
       "        vertical-align: middle;\n",
       "    }\n",
       "\n",
       "    .dataframe tbody tr th {\n",
       "        vertical-align: top;\n",
       "    }\n",
       "\n",
       "    .dataframe thead th {\n",
       "        text-align: right;\n",
       "    }\n",
       "</style>\n",
       "<table border=\"1\" class=\"dataframe\">\n",
       "  <thead>\n",
       "    <tr style=\"text-align: right;\">\n",
       "      <th></th>\n",
       "      <th>count</th>\n",
       "      <th>mean</th>\n",
       "      <th>std</th>\n",
       "      <th>min</th>\n",
       "      <th>25%</th>\n",
       "      <th>50%</th>\n",
       "      <th>75%</th>\n",
       "      <th>max</th>\n",
       "    </tr>\n",
       "    <tr>\n",
       "      <th>car_type</th>\n",
       "      <th></th>\n",
       "      <th></th>\n",
       "      <th></th>\n",
       "      <th></th>\n",
       "      <th></th>\n",
       "      <th></th>\n",
       "      <th></th>\n",
       "      <th></th>\n",
       "    </tr>\n",
       "  </thead>\n",
       "  <tbody>\n",
       "    <tr>\n",
       "      <th>Toyota Carolla</th>\n",
       "      <td>111.0</td>\n",
       "      <td>0.03900</td>\n",
       "      <td>2.788145e-17</td>\n",
       "      <td>0.0390</td>\n",
       "      <td>0.0390</td>\n",
       "      <td>0.03900</td>\n",
       "      <td>0.0390</td>\n",
       "      <td>0.0390</td>\n",
       "    </tr>\n",
       "    <tr>\n",
       "      <th>Toyota Corolla</th>\n",
       "      <td>33.0</td>\n",
       "      <td>0.03900</td>\n",
       "      <td>7.046480e-18</td>\n",
       "      <td>0.0390</td>\n",
       "      <td>0.0390</td>\n",
       "      <td>0.03900</td>\n",
       "      <td>0.0390</td>\n",
       "      <td>0.0390</td>\n",
       "    </tr>\n",
       "    <tr>\n",
       "      <th>Toyota Sienna</th>\n",
       "      <td>120.0</td>\n",
       "      <td>0.05305</td>\n",
       "      <td>1.722191e-02</td>\n",
       "      <td>0.0359</td>\n",
       "      <td>0.0359</td>\n",
       "      <td>0.05305</td>\n",
       "      <td>0.0702</td>\n",
       "      <td>0.0702</td>\n",
       "    </tr>\n",
       "    <tr>\n",
       "      <th>VW Golf R</th>\n",
       "      <td>144.0</td>\n",
       "      <td>0.02900</td>\n",
       "      <td>6.266802e-17</td>\n",
       "      <td>0.0290</td>\n",
       "      <td>0.0290</td>\n",
       "      <td>0.02900</td>\n",
       "      <td>0.0290</td>\n",
       "      <td>0.0290</td>\n",
       "    </tr>\n",
       "  </tbody>\n",
       "</table>\n",
       "</div>"
      ],
      "text/plain": [
       "                count     mean           std     min     25%      50%     75%  \\\n",
       "car_type                                                                        \n",
       "Toyota Carolla  111.0  0.03900  2.788145e-17  0.0390  0.0390  0.03900  0.0390   \n",
       "Toyota Corolla   33.0  0.03900  7.046480e-18  0.0390  0.0390  0.03900  0.0390   \n",
       "Toyota Sienna   120.0  0.05305  1.722191e-02  0.0359  0.0359  0.05305  0.0702   \n",
       "VW Golf R       144.0  0.02900  6.266802e-17  0.0290  0.0290  0.02900  0.0290   \n",
       "\n",
       "                   max  \n",
       "car_type                \n",
       "Toyota Carolla  0.0390  \n",
       "Toyota Corolla  0.0390  \n",
       "Toyota Sienna   0.0702  \n",
       "VW Golf R       0.0290  "
      ]
     },
     "execution_count": 3,
     "metadata": {},
     "output_type": "execute_result"
    }
   ],
   "source": [
    "data.groupby('car_type')['interest_rate'].describe()"
   ]
  },
  {
   "cell_type": "markdown",
   "id": "87c5d93c",
   "metadata": {},
   "source": [
    "### 4. Description of terms across car types"
   ]
  },
  {
   "cell_type": "code",
   "execution_count": 4,
   "id": "1ead76ef",
   "metadata": {
    "scrolled": true
   },
   "outputs": [
    {
     "data": {
      "text/html": [
       "<div>\n",
       "<style scoped>\n",
       "    .dataframe tbody tr th:only-of-type {\n",
       "        vertical-align: middle;\n",
       "    }\n",
       "\n",
       "    .dataframe tbody tr th {\n",
       "        vertical-align: top;\n",
       "    }\n",
       "\n",
       "    .dataframe thead th {\n",
       "        text-align: right;\n",
       "    }\n",
       "</style>\n",
       "<table border=\"1\" class=\"dataframe\">\n",
       "  <thead>\n",
       "    <tr style=\"text-align: right;\">\n",
       "      <th></th>\n",
       "      <th>count</th>\n",
       "      <th>mean</th>\n",
       "      <th>std</th>\n",
       "      <th>min</th>\n",
       "      <th>25%</th>\n",
       "      <th>50%</th>\n",
       "      <th>75%</th>\n",
       "      <th>max</th>\n",
       "    </tr>\n",
       "    <tr>\n",
       "      <th>car_type</th>\n",
       "      <th></th>\n",
       "      <th></th>\n",
       "      <th></th>\n",
       "      <th></th>\n",
       "      <th></th>\n",
       "      <th></th>\n",
       "      <th></th>\n",
       "      <th></th>\n",
       "    </tr>\n",
       "  </thead>\n",
       "  <tbody>\n",
       "    <tr>\n",
       "      <th>Toyota Carolla</th>\n",
       "      <td>111.0</td>\n",
       "      <td>54.162162</td>\n",
       "      <td>6.644944</td>\n",
       "      <td>36.0</td>\n",
       "      <td>48.0</td>\n",
       "      <td>60.0</td>\n",
       "      <td>60.0</td>\n",
       "      <td>60.0</td>\n",
       "    </tr>\n",
       "    <tr>\n",
       "      <th>Toyota Corolla</th>\n",
       "      <td>33.0</td>\n",
       "      <td>36.000000</td>\n",
       "      <td>0.000000</td>\n",
       "      <td>36.0</td>\n",
       "      <td>36.0</td>\n",
       "      <td>36.0</td>\n",
       "      <td>36.0</td>\n",
       "      <td>36.0</td>\n",
       "    </tr>\n",
       "    <tr>\n",
       "      <th>Toyota Sienna</th>\n",
       "      <td>120.0</td>\n",
       "      <td>60.000000</td>\n",
       "      <td>0.000000</td>\n",
       "      <td>60.0</td>\n",
       "      <td>60.0</td>\n",
       "      <td>60.0</td>\n",
       "      <td>60.0</td>\n",
       "      <td>60.0</td>\n",
       "    </tr>\n",
       "    <tr>\n",
       "      <th>VW Golf R</th>\n",
       "      <td>144.0</td>\n",
       "      <td>50.000000</td>\n",
       "      <td>9.625142</td>\n",
       "      <td>36.0</td>\n",
       "      <td>45.0</td>\n",
       "      <td>48.0</td>\n",
       "      <td>60.0</td>\n",
       "      <td>60.0</td>\n",
       "    </tr>\n",
       "  </tbody>\n",
       "</table>\n",
       "</div>"
      ],
      "text/plain": [
       "                count       mean       std   min   25%   50%   75%   max\n",
       "car_type                                                                \n",
       "Toyota Carolla  111.0  54.162162  6.644944  36.0  48.0  60.0  60.0  60.0\n",
       "Toyota Corolla   33.0  36.000000  0.000000  36.0  36.0  36.0  36.0  36.0\n",
       "Toyota Sienna   120.0  60.000000  0.000000  60.0  60.0  60.0  60.0  60.0\n",
       "VW Golf R       144.0  50.000000  9.625142  36.0  45.0  48.0  60.0  60.0"
      ]
     },
     "execution_count": 4,
     "metadata": {},
     "output_type": "execute_result"
    }
   ],
   "source": [
    "data.groupby('car_type')['term'].describe()"
   ]
  },
  {
   "cell_type": "markdown",
   "id": "a3c2bf70",
   "metadata": {},
   "source": [
    "### 5. Total numbers"
   ]
  },
  {
   "cell_type": "code",
   "execution_count": 5,
   "id": "b720ec57",
   "metadata": {},
   "outputs": [
    {
     "name": "stdout",
     "output_type": "stream",
     "text": [
      "Total repayment: 290550.72000000003\n",
      "Total interest paid: 23139.77\n",
      "Total principal paid: 267410.95\n"
     ]
    }
   ],
   "source": [
    "print(\"Total repayment:\", data[\"Repayment\"].sum())\n",
    "print(\"Total interest paid:\", data[\"Interest Paid\"].sum())\n",
    "print(\"Total principal paid:\", data[\"Principal Paid\"].sum())"
   ]
  },
  {
   "cell_type": "code",
   "execution_count": 6,
   "id": "73750b11",
   "metadata": {
    "scrolled": true
   },
   "outputs": [
    {
     "name": "stdout",
     "output_type": "stream",
     "text": [
      "Statistics by car type:\n",
      "                Starting Balance  Repayment  Interest Paid  Principal Paid\n",
      "car_type                                                                  \n",
      "Toyota Carolla        1251399.54   49083.00        4066.53        45016.47\n",
      "Toyota Corolla         378202.64   21013.08        1229.00        19784.08\n",
      "Toyota Sienna         2207694.02   79182.00        9801.39        69380.61\n",
      "VW Golf R             3328354.90  141272.64        8042.85       133229.79\n"
     ]
    }
   ],
   "source": [
    "grouped = data.groupby(\"car_type\")\n",
    "print(\"Statistics by car type:\")\n",
    "print(grouped[[\"Starting Balance\", \"Repayment\", \"Interest Paid\", \"Principal Paid\"]].sum())"
   ]
  },
  {
   "cell_type": "markdown",
   "id": "5663c969",
   "metadata": {},
   "source": [
    "### 6. Visualisation"
   ]
  },
  {
   "cell_type": "code",
   "execution_count": 7,
   "id": "a921c631",
   "metadata": {
    "scrolled": true
   },
   "outputs": [
    {
     "data": {
      "image/png": "[encoded data removed]",
      "text/plain": [
       "<Figure size 432x288 with 1 Axes>"
      ]
     },
     "metadata": {
      "needs_background": "light"
     },
     "output_type": "display_data"
    }
   ],
   "source": [
    "ax = grouped[[\"Starting Balance\"]].sum().plot(kind='bar')\n",
    "ax.set_xlabel(\"Car Type\")\n",
    "ax.set_ylabel(\"Amount ($)\")\n",
    "ax.set_title(\"Statistics by Car Type\")\n",
    "plt.show()"
   ]
  },
  {
   "cell_type": "code",
   "execution_count": 8,
   "id": "ffb0a9a4",
   "metadata": {},
   "outputs": [
    {
     "data": {
      "image/png": "[encoded data removed]",
      "text/plain": [
       "<Figure size 432x288 with 1 Axes>"
      ]
     },
     "metadata": {
      "needs_background": "light"
     },
     "output_type": "display_data"
    }
   ],
   "source": [
    "ax = grouped[[\"Repayment\", \"Interest Paid\", \"Principal Paid\"]].sum().plot(kind='bar')\n",
    "ax.set_xlabel(\"Car Type\")\n",
    "ax.set_ylabel(\"Amount ($)\")\n",
    "ax.set_title(\"Statistics by Car Type\")\n",
    "plt.show()"
   ]
  }
 ],
 "metadata": {
  "kernelspec": {
   "display_name": "Python 3 (ipykernel)",
   "language": "python",
   "name": "python3"
  },
  "language_info": {
   "codemirror_mode": {
    "name": "ipython",
    "version": 3
   },
   "file_extension": ".py",
   "mimetype": "text/x-python",
   "name": "python",
   "nbconvert_exporter": "python",
   "pygments_lexer": "ipython3",
   "version": "3.9.12"
  }
 },
 "nbformat": 4,
 "nbformat_minor": 5
}
